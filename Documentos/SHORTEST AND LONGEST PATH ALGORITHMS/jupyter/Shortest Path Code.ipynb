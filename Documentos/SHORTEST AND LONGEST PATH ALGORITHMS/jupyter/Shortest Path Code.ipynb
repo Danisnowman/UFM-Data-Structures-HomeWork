{
 "cells": [
  {
   "cell_type": "markdown",
   "metadata": {},
   "source": [
    "# Shortest Path Algorithms\n",
    "## in Directed Acyclic Graph"
   ]
  },
  {
   "cell_type": "code",
   "execution_count": 1,
   "metadata": {},
   "outputs": [],
   "source": [
    "from collections import defaultdict"
   ]
  },
  {
   "cell_type": "code",
   "execution_count": 6,
   "metadata": {},
   "outputs": [
    {
     "name": "stdout",
     "output_type": "stream",
     "text": [
      "Following are shortest distances from source 1 \n",
      "0\n",
      "2\n",
      "6\n",
      "5\n",
      "3\n"
     ]
    }
   ],
   "source": [
    "class Graph:\n",
    "    def __init__(self,vertices): \n",
    "\n",
    "                self.V = vertices # Number of vertices\n",
    "                self.graph = defaultdict(list) \n",
    "\n",
    "    def addEdge(self, u, v, w):\n",
    "        \n",
    "        self.graph[u].append((v,w))\n",
    "    \n",
    "    \n",
    "    def topologicalSortUtil(self,v,visited,stack): \n",
    "\n",
    "                visited[v] = True\n",
    "\n",
    "                if v in self.graph.keys(): \n",
    "                        for node,weight in self.graph[v]: \n",
    "                                if visited[node] == False: \n",
    "                                        self.topologicalSortUtil(node,visited,stack) \n",
    "\n",
    "                stack.append(v) \n",
    "\n",
    "\n",
    "    def shortestPath(self, s): \n",
    "\n",
    "            visited = [False]*self.V \n",
    "            stack =[] \n",
    "\n",
    "            for i in range(self.V): \n",
    "                    if visited[i] == False: \n",
    "                            self.topologicalSortUtil(s,visited,stack) \n",
    "\n",
    "            dist = [float(\"Inf\")] * (self.V) \n",
    "            dist[s] = 0\n",
    "\n",
    "            while stack: \n",
    "\n",
    "                    i = stack.pop() \n",
    "\n",
    "                    for node,weight in self.graph[i]: \n",
    "                            if dist[node] > dist[i] + weight: \n",
    "                                    dist[node] = dist[i] + weight \n",
    "\n",
    "            for i in range(self.V): \n",
    "                    print (\"%d\" %dist[i]) if dist[i] != float(\"Inf\") else \"Inf\" , \n",
    "\n",
    "\n",
    "g = Graph(6) \n",
    "g.addEdge(0, 1, 5) \n",
    "g.addEdge(0, 2, 3) \n",
    "g.addEdge(1, 3, 6) \n",
    "g.addEdge(1, 2, 2) \n",
    "g.addEdge(2, 4, 4) \n",
    "g.addEdge(2, 5, 2) \n",
    "g.addEdge(2, 3, 7) \n",
    "g.addEdge(3, 4, -1) \n",
    "g.addEdge(4, 5, -2) \n",
    "\n",
    "# source = 1 \n",
    "s = 1\n",
    "\n",
    "print (\"Following are shortest distances from source %d \" % s) \n",
    "g.shortestPath(s) \n"
   ]
  },
  {
   "cell_type": "markdown",
   "metadata": {},
   "source": [
    "## Bellman Ford's Algorithm"
   ]
  },
  {
   "cell_type": "code",
   "execution_count": 9,
   "metadata": {},
   "outputs": [
    {
     "name": "stdout",
     "output_type": "stream",
     "text": [
      "Vertex Distance from Source\n",
      "0 \t\t 0\n",
      "1 \t\t -1\n",
      "2 \t\t 2\n",
      "3 \t\t -2\n",
      "4 \t\t 1\n"
     ]
    }
   ],
   "source": [
    "class Graph: \n",
    "\n",
    "        def __init__(self,vertices): \n",
    "                self.V= vertices \n",
    "                self.graph = [] \n",
    "\n",
    "\n",
    "        def addEdge(self,u,v,w): \n",
    "                self.graph.append([u, v, w]) \n",
    "                \n",
    "                \n",
    "        def printArr(self, dist): \n",
    "                print(\"Vertex Distance from Source\") \n",
    "                for i in range(self.V): \n",
    "                        print(\"%d \\t\\t %d\" % (i, dist[i])) \n",
    "        \n",
    "\n",
    "        def BellmanFord(self, src): \n",
    "\n",
    "                dist = [float(\"Inf\")] * self.V \n",
    "                dist[src] = 0\n",
    "\n",
    "\n",
    "                for i in range(self.V - 1): \n",
    "                        for u, v, w in self.graph: \n",
    "                                if dist[u] != float(\"Inf\") and dist[u] + w < dist[v]: \n",
    "                                                dist[v] = dist[u] + w \n",
    "\n",
    "\n",
    "                for u, v, w in self.graph: \n",
    "                                if dist[u] != float(\"Inf\") and dist[u] + w < dist[v]: \n",
    "                                                print (\"Graph contains negative weight cycle\")\n",
    "                                                return\n",
    "                                                \n",
    "                self.printArr(dist) \n",
    "\n",
    "g = Graph(5) \n",
    "g.addEdge(0, 1, -1) \n",
    "g.addEdge(0, 2, 4) \n",
    "g.addEdge(1, 2, 3) \n",
    "g.addEdge(1, 3, 2) \n",
    "g.addEdge(1, 4, 2) \n",
    "g.addEdge(3, 2, 5) \n",
    "g.addEdge(3, 1, 1) \n",
    "g.addEdge(4, 3, -3) \n",
    "\n",
    "g.BellmanFord(0) "
   ]
  },
  {
   "cell_type": "markdown",
   "metadata": {},
   "source": [
    "## Floyd Warhsall's Algorithm"
   ]
  },
  {
   "cell_type": "code",
   "execution_count": 27,
   "metadata": {},
   "outputs": [
    {
     "ename": "TypeError",
     "evalue": "'map' object is not subscriptable",
     "output_type": "error",
     "traceback": [
      "\u001b[0;31m---------------------------------------------------------------------------\u001b[0m",
      "\u001b[0;31mTypeError\u001b[0m                                 Traceback (most recent call last)",
      "\u001b[0;32m<ipython-input-27-da39539a94b5>\u001b[0m in \u001b[0;36m<module>\u001b[0;34m\u001b[0m\n\u001b[1;32m     38\u001b[0m                 ] \n\u001b[1;32m     39\u001b[0m \u001b[0;34m\u001b[0m\u001b[0m\n\u001b[0;32m---> 40\u001b[0;31m \u001b[0mfloydWarshall\u001b[0m\u001b[0;34m(\u001b[0m\u001b[0mgraph\u001b[0m\u001b[0;34m)\u001b[0m\u001b[0;34m;\u001b[0m\u001b[0;34m\u001b[0m\u001b[0;34m\u001b[0m\u001b[0m\n\u001b[0m",
      "\u001b[0;32m<ipython-input-27-da39539a94b5>\u001b[0m in \u001b[0;36mfloydWarshall\u001b[0;34m(graph)\u001b[0m\n\u001b[1;32m     15\u001b[0m                         \u001b[0;32mfor\u001b[0m \u001b[0mj\u001b[0m \u001b[0;32min\u001b[0m \u001b[0mrange\u001b[0m\u001b[0;34m(\u001b[0m\u001b[0mV\u001b[0m\u001b[0;34m)\u001b[0m\u001b[0;34m:\u001b[0m\u001b[0;34m\u001b[0m\u001b[0;34m\u001b[0m\u001b[0m\n\u001b[1;32m     16\u001b[0m \u001b[0;34m\u001b[0m\u001b[0m\n\u001b[0;32m---> 17\u001b[0;31m                                 \u001b[0mdist\u001b[0m\u001b[0;34m[\u001b[0m\u001b[0mi\u001b[0m\u001b[0;34m]\u001b[0m\u001b[0;34m[\u001b[0m\u001b[0mj\u001b[0m\u001b[0;34m]\u001b[0m \u001b[0;34m=\u001b[0m \u001b[0mmin\u001b[0m\u001b[0;34m(\u001b[0m\u001b[0mdist\u001b[0m\u001b[0;34m[\u001b[0m\u001b[0mi\u001b[0m\u001b[0;34m]\u001b[0m\u001b[0;34m[\u001b[0m\u001b[0mj\u001b[0m\u001b[0;34m]\u001b[0m\u001b[0;34m,\u001b[0m \u001b[0mdist\u001b[0m\u001b[0;34m[\u001b[0m\u001b[0mi\u001b[0m\u001b[0;34m]\u001b[0m\u001b[0;34m[\u001b[0m\u001b[0mk\u001b[0m\u001b[0;34m]\u001b[0m \u001b[0;34m+\u001b[0m \u001b[0mdist\u001b[0m\u001b[0;34m[\u001b[0m\u001b[0mk\u001b[0m\u001b[0;34m]\u001b[0m\u001b[0;34m[\u001b[0m\u001b[0mj\u001b[0m\u001b[0;34m]\u001b[0m\u001b[0;34m)\u001b[0m\u001b[0;34m\u001b[0m\u001b[0;34m\u001b[0m\u001b[0m\n\u001b[0m\u001b[1;32m     18\u001b[0m         \u001b[0mprintSolution\u001b[0m\u001b[0;34m(\u001b[0m\u001b[0mdist\u001b[0m\u001b[0;34m)\u001b[0m\u001b[0;34m\u001b[0m\u001b[0;34m\u001b[0m\u001b[0m\n\u001b[1;32m     19\u001b[0m \u001b[0;34m\u001b[0m\u001b[0m\n",
      "\u001b[0;31mTypeError\u001b[0m: 'map' object is not subscriptable"
     ]
    }
   ],
   "source": [
    "V = 4\n",
    "INF = 99999\n",
    "\n",
    "\n",
    "def floydWarshall(graph): \n",
    "\n",
    "\n",
    "        dist = map(lambda i : map(lambda j : j , i) , graph) \n",
    "        \n",
    "\n",
    "        for k in range(V): \n",
    "\n",
    "                for i in range(V): \n",
    "\n",
    "                        for j in range(V): \n",
    "\n",
    "                                dist[i][j] = min(dist[i][j], dist[i][k] + dist[k][j]) \n",
    "        printSolution(dist) \n",
    "\n",
    "\n",
    "def printSolution(dist): \n",
    "        print(\"Following matrix shows the shortest distances between every pair of vertices\") \n",
    "        for i in range(V): \n",
    "                for j in range(V): \n",
    "                        if(dist[i][j] == INF): \n",
    "                                print(\"%7s\" %(\"INF\"),)\n",
    "                        else: \n",
    "                                print(\"%7d\\t\" %(dist[i][j]),)\n",
    "                        if j == V-1: \n",
    "                                print(\"\")\n",
    "\n",
    "\n",
    "\n",
    "graph = [[0,5,INF,10], \n",
    "                        [INF,0,3,INF], \n",
    "                        [INF, INF, 0, 1], \n",
    "                        [INF, INF, INF, 0] \n",
    "                ] \n",
    "\n",
    "floydWarshall(graph); "
   ]
  },
  {
   "cell_type": "code",
   "execution_count": null,
   "metadata": {},
   "outputs": [],
   "source": []
  }
 ],
 "metadata": {
  "kernelspec": {
   "display_name": "Python 3",
   "language": "python",
   "name": "python3"
  },
  "language_info": {
   "codemirror_mode": {
    "name": "ipython",
    "version": 3
   },
   "file_extension": ".py",
   "mimetype": "text/x-python",
   "name": "python",
   "nbconvert_exporter": "python",
   "pygments_lexer": "ipython3",
   "version": "3.7.2"
  }
 },
 "nbformat": 4,
 "nbformat_minor": 2
}
